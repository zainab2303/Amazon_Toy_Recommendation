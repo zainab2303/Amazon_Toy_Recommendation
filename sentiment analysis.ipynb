{
 "cells": [
  {
   "cell_type": "code",
   "execution_count": 1,
   "id": "9176c6aa",
   "metadata": {},
   "outputs": [],
   "source": [
    "import pandas as pd\n",
    "import matplotlib.pyplot as plt\n",
    "import seaborn as sns\n",
    "import numpy as np\n",
    "import re"
   ]
  },
  {
   "cell_type": "code",
   "execution_count": 2,
   "id": "def37e35",
   "metadata": {},
   "outputs": [],
   "source": [
    "import warnings\n",
    "warnings.filterwarnings(\"ignore\")\n",
    "import nltk\n",
    "\n",
    "from nltk.corpus import stopwords\n",
    "stop = stopwords.words('english')\n",
    "import string\n",
    "from sklearn.model_selection import train_test_split\n",
    "from nltk.stem import PorterStemmer\n",
    "from nltk.stem import WordNetLemmatizer\n",
    "\n",
    "from nltk.tokenize import word_tokenize\n",
    "from sklearn.feature_extraction.text import CountVectorizer\n",
    "from sklearn.linear_model import LogisticRegression\n",
    "from sklearn.feature_extraction.text import TfidfVectorizer\n",
    "from sklearn.metrics import classification_report"
   ]
  },
  {
   "cell_type": "code",
   "execution_count": 3,
   "id": "7461d2b2",
   "metadata": {},
   "outputs": [],
   "source": [
    "amazon_data = pd.read_csv(\"amazon_co-ecommerce_sample.csv\")"
   ]
  },
  {
   "cell_type": "code",
   "execution_count": 4,
   "id": "2223b4c6",
   "metadata": {},
   "outputs": [],
   "source": [
    "amazon_data['customer_reviews'] = amazon_data['customer_reviews'].astype(str)"
   ]
  },
  {
   "cell_type": "code",
   "execution_count": 5,
   "id": "c78831d6",
   "metadata": {},
   "outputs": [],
   "source": [
    "rating_review_data = pd.DataFrame()\n",
    "\n",
    "for idx, value in amazon_data['customer_reviews'].iteritems():\n",
    "    # Split the single string into individual reviews\n",
    "    reviews = re.split(r'\\|', str(value))\n",
    "\n",
    "    # Extract ratings and reviews from each individual review\n",
    "    rating_pattern = r'//\\s*(\\d+\\.\\d)\\s*//' # Matches the rating (e.g., 5.0)\n",
    "\n",
    "    ratings = []\n",
    "    review_texts = []\n",
    "\n",
    "    for review in reviews:\n",
    "        rating_match = re.search(rating_pattern, review)\n",
    "        if rating_match:\n",
    "            ratings.append(rating_match.group(1))\n",
    "            review_text = review.replace(rating_match.group(0), '').strip()\n",
    "            review_texts.append(review_text)\n",
    "\n",
    "    # Create a new DataFrame\n",
    "    new_df = pd.DataFrame({\"rating\": ratings, \"review\": review_texts})\n",
    "    rating_review_data = pd.concat([rating_review_data, new_df])\n",
    "    rating_review_data.reset_index(drop=True, inplace=True)\n"
   ]
  },
  {
   "cell_type": "code",
   "execution_count": 6,
   "id": "4c88b8cc",
   "metadata": {},
   "outputs": [],
   "source": [
    "# remove user names\n",
    "rating_review_data['review'] = [re.sub(r'//\\s*By\\s*[\\w\\s.]*\\s*on\\s*', '', text) for text in rating_review_data['review']]"
   ]
  },
  {
   "cell_type": "code",
   "execution_count": 7,
   "id": "669362c0",
   "metadata": {},
   "outputs": [],
   "source": [
    "# Remove repeated dates\n",
    "rating_review_data['review'] = [re.sub(r'(\\d+\\s*[A-Za-z]+\\s*\\d{4}(\\s*\\.?)\\s*)\\1', r'\\1', text) for text in rating_review_data['review']] \n",
    "rating_review_data['review'] = [re.sub(r'(\\d+\\s*[A-Za-z]+\\.\\s*\\d{4})\\s*\\1', r'\\1',text) for text in rating_review_data['review']] \n"
   ]
  },
  {
   "cell_type": "code",
   "execution_count": 8,
   "id": "263aeef1",
   "metadata": {},
   "outputs": [],
   "source": [
    "rating_review_data['review'] = [review.replace('//', ' ') for review in rating_review_data['review']] # remove //\n",
    "rating_review_data['review'] = [review.replace('\\n', ' ') for review in rating_review_data['review']] # remove \\n\n",
    "rating_review_data['review'] = [re.sub(r'\\d+', '', text) for text in rating_review_data['review']] # remove numbers"
   ]
  },
  {
   "cell_type": "code",
   "execution_count": 9,
   "id": "3adc7c36",
   "metadata": {},
   "outputs": [],
   "source": [
    "# remove stopwords\n",
    "rating_review_data['review'] = [' '.join([word for word in text.split() if word.lower() not in stop]) for text in rating_review_data['review']] "
   ]
  },
  {
   "cell_type": "code",
   "execution_count": 10,
   "id": "ecb711be",
   "metadata": {},
   "outputs": [],
   "source": [
    "# Remove all punctuations\n",
    "rating_review_data['review'] = [re.sub(f\"[{re.escape(string.punctuation)}]\", \"\", text) for text in rating_review_data['review']]"
   ]
  },
  {
   "cell_type": "code",
   "execution_count": 11,
   "id": "83903117",
   "metadata": {},
   "outputs": [],
   "source": [
    "def stemSentence(sentence):\n",
    "    token_words = word_tokenize(sentence)\n",
    "    stem_sentence = [porter.stem(word) for word in token_words]\n",
    "    return \" \".join(stem_sentence)\n",
    "\n",
    "porter = PorterStemmer()\n",
    "\n",
    "# Apply stemming\n",
    "rating_review_data['review'] = [stemSentence(text) for text in rating_review_data['review']]"
   ]
  },
  {
   "cell_type": "code",
   "execution_count": 12,
   "id": "52f6b010",
   "metadata": {},
   "outputs": [
    {
     "data": {
      "text/html": [
       "<div>\n",
       "<style scoped>\n",
       "    .dataframe tbody tr th:only-of-type {\n",
       "        vertical-align: middle;\n",
       "    }\n",
       "\n",
       "    .dataframe tbody tr th {\n",
       "        vertical-align: top;\n",
       "    }\n",
       "\n",
       "    .dataframe thead th {\n",
       "        text-align: right;\n",
       "    }\n",
       "</style>\n",
       "<table border=\"1\" class=\"dataframe\">\n",
       "  <thead>\n",
       "    <tr style=\"text-align: right;\">\n",
       "      <th></th>\n",
       "      <th>rating</th>\n",
       "      <th>review</th>\n",
       "    </tr>\n",
       "  </thead>\n",
       "  <tbody>\n",
       "    <tr>\n",
       "      <th>0</th>\n",
       "      <td>4.0</td>\n",
       "      <td>worth buy pictur alon as ever april part magic...</td>\n",
       "    </tr>\n",
       "    <tr>\n",
       "      <th>1</th>\n",
       "      <td>5.0</td>\n",
       "      <td>amaz detail fabul photographi april amaz detai...</td>\n",
       "    </tr>\n",
       "    <tr>\n",
       "      <th>2</th>\n",
       "      <td>5.0</td>\n",
       "      <td>great purchas april purchas behalf dad alway a...</td>\n",
       "    </tr>\n",
       "  </tbody>\n",
       "</table>\n",
       "</div>"
      ],
      "text/plain": [
       "  rating                                             review\n",
       "0    4.0  worth buy pictur alon as ever april part magic...\n",
       "1    5.0  amaz detail fabul photographi april amaz detai...\n",
       "2    5.0  great purchas april purchas behalf dad alway a..."
      ]
     },
     "execution_count": 12,
     "metadata": {},
     "output_type": "execute_result"
    }
   ],
   "source": [
    "rating_review_data.head(3)"
   ]
  },
  {
   "cell_type": "markdown",
   "id": "6164028f",
   "metadata": {},
   "source": [
    "## Model"
   ]
  },
  {
   "cell_type": "code",
   "execution_count": 14,
   "id": "ba34a403",
   "metadata": {},
   "outputs": [],
   "source": [
    "rating_review_data['rating'] = pd.to_numeric(rating_review_data['rating'], errors='coerce')\n",
    "rating_review_data['Label'] = (rating_review_data['rating'] >= 4.0).astype(int)"
   ]
  },
  {
   "cell_type": "code",
   "execution_count": 15,
   "id": "c508b913",
   "metadata": {},
   "outputs": [
    {
     "name": "stdout",
     "output_type": "stream",
     "text": [
      "1    26751\n",
      "0     2783\n",
      "Name: Label, dtype: int64\n"
     ]
    }
   ],
   "source": [
    "class_distribution = rating_review_data['Label'].value_counts()\n",
    "print(class_distribution)\n",
    "\n",
    "# Imbalanced data"
   ]
  },
  {
   "cell_type": "code",
   "execution_count": 16,
   "id": "ef609c9f",
   "metadata": {},
   "outputs": [
    {
     "name": "stdout",
     "output_type": "stream",
     "text": [
      "1    21401\n",
      "0     2226\n",
      "Name: Label, dtype: int64\n",
      "1    5350\n",
      "0     557\n",
      "Name: Label, dtype: int64\n"
     ]
    }
   ],
   "source": [
    "dev_text, test_text, dev_y, test_y = train_test_split(rating_review_data['review'], rating_review_data['Label'], stratify =  rating_review_data['Label'],test_size=0.2,  random_state=42)\n",
    "\n",
    "print(dev_y.value_counts())\n",
    "print(test_y.value_counts())"
   ]
  },
  {
   "cell_type": "markdown",
   "id": "9f81627f",
   "metadata": {},
   "source": [
    "### Bag Of Word"
   ]
  },
  {
   "cell_type": "code",
   "execution_count": 17,
   "id": "82909f30",
   "metadata": {},
   "outputs": [
    {
     "name": "stdout",
     "output_type": "stream",
     "text": [
      "(23627, 24965)\n",
      "(5907, 24965)\n"
     ]
    }
   ],
   "source": [
    "vector = CountVectorizer()\n",
    "\n",
    "dev_X_bow = vector.fit_transform(dev_text)\n",
    "test_X_bow = vector.transform(test_text)\n",
    "\n",
    "print(dev_X_bow.shape)\n",
    "print(test_X_bow.shape)"
   ]
  },
  {
   "cell_type": "code",
   "execution_count": 18,
   "id": "a2ec99cb",
   "metadata": {},
   "outputs": [
    {
     "data": {
      "text/plain": [
       "0.9400711020822753"
      ]
     },
     "execution_count": 18,
     "metadata": {},
     "output_type": "execute_result"
    }
   ],
   "source": [
    "from sklearn.linear_model import LogisticRegressionCV\n",
    "\n",
    "lr_bow = LogisticRegressionCV().fit(dev_X_bow, dev_y)\n",
    "lr_bow.score(test_X_bow, test_y)"
   ]
  },
  {
   "cell_type": "code",
   "execution_count": 19,
   "id": "39fcc4e5",
   "metadata": {},
   "outputs": [
    {
     "name": "stdout",
     "output_type": "stream",
     "text": [
      "Classification Report for Bag of Words Model:\n",
      "              precision    recall  f1-score   support\n",
      "\n",
      "           0       0.77      0.52      0.62       557\n",
      "           1       0.95      0.98      0.97      5350\n",
      "\n",
      "    accuracy                           0.94      5907\n",
      "   macro avg       0.86      0.75      0.79      5907\n",
      "weighted avg       0.93      0.94      0.93      5907\n",
      "\n"
     ]
    }
   ],
   "source": [
    "test_pred_bow = lr_bow.predict(test_X_bow)\n",
    "\n",
    "print(\"Classification Report for Bag of Words Model:\")\n",
    "print(classification_report(test_y, test_pred_bow))"
   ]
  },
  {
   "cell_type": "markdown",
   "id": "95ce0458",
   "metadata": {},
   "source": [
    "### TF-IDF"
   ]
  },
  {
   "cell_type": "code",
   "execution_count": 20,
   "id": "f199f7a6",
   "metadata": {},
   "outputs": [
    {
     "name": "stdout",
     "output_type": "stream",
     "text": [
      "(23627, 24965)\n",
      "(5907, 24965)\n"
     ]
    }
   ],
   "source": [
    "vector_tf = TfidfVectorizer()\n",
    "\n",
    "dev_X_tf = vector_tf.fit_transform(dev_text)\n",
    "test_X_tf  = vector_tf.transform(test_text)\n",
    "\n",
    "print(dev_X_tf.shape)\n",
    "print(test_X_tf.shape)"
   ]
  },
  {
   "cell_type": "code",
   "execution_count": 21,
   "id": "82065c76",
   "metadata": {},
   "outputs": [
    {
     "data": {
      "text/plain": [
       "0.9407482647706111"
      ]
     },
     "execution_count": 21,
     "metadata": {},
     "output_type": "execute_result"
    }
   ],
   "source": [
    "lr_tfidf = LogisticRegressionCV().fit(dev_X_tf, dev_y)\n",
    "lr_tfidf.score(test_X_tf, test_y)"
   ]
  },
  {
   "cell_type": "code",
   "execution_count": 22,
   "id": "22219800",
   "metadata": {},
   "outputs": [
    {
     "name": "stdout",
     "output_type": "stream",
     "text": [
      "\n",
      "Classification Report for TF-IDF Model:\n",
      "              precision    recall  f1-score   support\n",
      "\n",
      "           0       0.83      0.46      0.60       557\n",
      "           1       0.95      0.99      0.97      5350\n",
      "\n",
      "    accuracy                           0.94      5907\n",
      "   macro avg       0.89      0.73      0.78      5907\n",
      "weighted avg       0.94      0.94      0.93      5907\n",
      "\n"
     ]
    }
   ],
   "source": [
    "test_pred_tfidf = lr_tfidf.predict(test_X_tf)\n",
    "\n",
    "\n",
    "print(\"\\nClassification Report for TF-IDF Model:\")\n",
    "print(classification_report(test_y, test_pred_tfidf))"
   ]
  },
  {
   "cell_type": "code",
   "execution_count": null,
   "id": "35311fc8",
   "metadata": {},
   "outputs": [],
   "source": []
  },
  {
   "cell_type": "markdown",
   "id": "13bc4991",
   "metadata": {},
   "source": [
    "#### N-grams"
   ]
  },
  {
   "cell_type": "code",
   "execution_count": 23,
   "id": "589f7147",
   "metadata": {},
   "outputs": [
    {
     "data": {
      "text/plain": [
       "0.9431183341797867"
      ]
     },
     "execution_count": 23,
     "metadata": {},
     "output_type": "execute_result"
    }
   ],
   "source": [
    "vector_ngram = CountVectorizer(ngram_range=(1,2), min_df=4)\n",
    "\n",
    "dev_X_ngram = vector_ngram.fit_transform(dev_text)\n",
    "test_X_ngram = vector_ngram.transform(test_text)\n",
    "\n",
    "lr_ngram = LogisticRegressionCV().fit(dev_X_ngram, dev_y)\n",
    "lr_ngram.score(test_X_ngram, test_y)"
   ]
  },
  {
   "cell_type": "code",
   "execution_count": 24,
   "id": "e2b15142",
   "metadata": {},
   "outputs": [
    {
     "name": "stdout",
     "output_type": "stream",
     "text": [
      "              precision    recall  f1-score   support\n",
      "\n",
      "           0       0.79      0.54      0.64       557\n",
      "           1       0.95      0.99      0.97      5350\n",
      "\n",
      "    accuracy                           0.94      5907\n",
      "   macro avg       0.87      0.76      0.81      5907\n",
      "weighted avg       0.94      0.94      0.94      5907\n",
      "\n"
     ]
    }
   ],
   "source": [
    "test_pred_ngram = lr_ngram.predict(test_X_ngram)\n",
    "\n",
    "print(classification_report(test_y, test_pred_ngram))"
   ]
  },
  {
   "cell_type": "code",
   "execution_count": 25,
   "id": "eb6a208e",
   "metadata": {},
   "outputs": [
    {
     "data": {
      "text/plain": [
       "0.9300829524293212"
      ]
     },
     "execution_count": 25,
     "metadata": {},
     "output_type": "execute_result"
    }
   ],
   "source": [
    "vector_bigram = CountVectorizer(ngram_range=(2,2), min_df=4)\n",
    "\n",
    "dev_X_bigram = vector_bigram.fit_transform(dev_text)\n",
    "test_X_bigram = vector_bigram.transform(test_text)\n",
    "\n",
    "lr_bigram = LogisticRegressionCV().fit(dev_X_bigram, dev_y)\n",
    "lr_bigram.score(test_X_bigram, test_y)"
   ]
  },
  {
   "cell_type": "code",
   "execution_count": 26,
   "id": "f107cce0",
   "metadata": {},
   "outputs": [
    {
     "name": "stdout",
     "output_type": "stream",
     "text": [
      "              precision    recall  f1-score   support\n",
      "\n",
      "           0       0.75      0.39      0.51       557\n",
      "           1       0.94      0.99      0.96      5350\n",
      "\n",
      "    accuracy                           0.93      5907\n",
      "   macro avg       0.84      0.69      0.74      5907\n",
      "weighted avg       0.92      0.93      0.92      5907\n",
      "\n"
     ]
    }
   ],
   "source": [
    "test_pred_bigram = lr_bigram.predict(test_X_bigram)\n",
    "\n",
    "print(classification_report(test_y, test_pred_bigram))"
   ]
  },
  {
   "cell_type": "markdown",
   "id": "c8028a50",
   "metadata": {},
   "source": [
    "### Imbalanced data"
   ]
  },
  {
   "cell_type": "code",
   "execution_count": 27,
   "id": "c28213fb",
   "metadata": {},
   "outputs": [],
   "source": [
    "from imblearn.over_sampling import SMOTE"
   ]
  },
  {
   "cell_type": "code",
   "execution_count": 28,
   "id": "fd0cc006",
   "metadata": {},
   "outputs": [
    {
     "name": "stdout",
     "output_type": "stream",
     "text": [
      "1    21401\n",
      "0     2226\n",
      "Name: Label, dtype: int64\n"
     ]
    }
   ],
   "source": [
    "print(dev_y.value_counts())"
   ]
  },
  {
   "cell_type": "code",
   "execution_count": 29,
   "id": "b64387c2",
   "metadata": {},
   "outputs": [
    {
     "name": "stdout",
     "output_type": "stream",
     "text": [
      "label counts After smote: \n",
      "1    21401\n",
      "0    21401\n",
      "Name: Label, dtype: int64\n",
      "shape of development set Before smote:  (23627, 24965)\n",
      "shape of development set After smote:  (42802, 24965)\n"
     ]
    }
   ],
   "source": [
    "# dev_X_tf \n",
    "# test_X_tf\n",
    "\n",
    "smote = SMOTE(random_state = 42)\n",
    "dev_X_smote, dev_y_smote = smote.fit_resample(dev_X_tf, dev_y)\n",
    "\n",
    "print(\"label counts After smote: \")\n",
    "print(dev_y_smote.value_counts())\n",
    "\n",
    "print(\"shape of development set Before smote: \", dev_X_tf.shape)\n",
    "print(\"shape of development set After smote: \", dev_X_smote.shape)"
   ]
  },
  {
   "cell_type": "code",
   "execution_count": 30,
   "id": "98b35516",
   "metadata": {},
   "outputs": [
    {
     "data": {
      "text/plain": [
       "0.9106145251396648"
      ]
     },
     "execution_count": 30,
     "metadata": {},
     "output_type": "execute_result"
    }
   ],
   "source": [
    "lr_smote = LogisticRegressionCV().fit(dev_X_smote, dev_y_smote)\n",
    "lr_smote.score(test_X_tf, test_y)"
   ]
  },
  {
   "cell_type": "code",
   "execution_count": 31,
   "id": "5fceb9d1",
   "metadata": {},
   "outputs": [
    {
     "name": "stdout",
     "output_type": "stream",
     "text": [
      "              precision    recall  f1-score   support\n",
      "\n",
      "           0       0.52      0.62      0.57       557\n",
      "           1       0.96      0.94      0.95      5350\n",
      "\n",
      "    accuracy                           0.91      5907\n",
      "   macro avg       0.74      0.78      0.76      5907\n",
      "weighted avg       0.92      0.91      0.91      5907\n",
      "\n"
     ]
    }
   ],
   "source": [
    "test_pred_smote = lr_smote.predict(test_X_tf)\n",
    "\n",
    "print(classification_report(test_y, test_pred_smote))"
   ]
  },
  {
   "cell_type": "markdown",
   "id": "48f372fb",
   "metadata": {},
   "source": [
    "### More classifiers"
   ]
  },
  {
   "cell_type": "code",
   "execution_count": 32,
   "id": "e326ae46",
   "metadata": {},
   "outputs": [],
   "source": [
    "from sklearn.tree import DecisionTreeClassifier\n",
    "from sklearn.model_selection import cross_validate\n",
    "from sklearn.metrics import roc_auc_score, average_precision_score"
   ]
  },
  {
   "cell_type": "code",
   "execution_count": 33,
   "id": "7915d959",
   "metadata": {},
   "outputs": [
    {
     "data": {
      "text/html": [
       "<style>#sk-container-id-1 {color: black;background-color: white;}#sk-container-id-1 pre{padding: 0;}#sk-container-id-1 div.sk-toggleable {background-color: white;}#sk-container-id-1 label.sk-toggleable__label {cursor: pointer;display: block;width: 100%;margin-bottom: 0;padding: 0.3em;box-sizing: border-box;text-align: center;}#sk-container-id-1 label.sk-toggleable__label-arrow:before {content: \"▸\";float: left;margin-right: 0.25em;color: #696969;}#sk-container-id-1 label.sk-toggleable__label-arrow:hover:before {color: black;}#sk-container-id-1 div.sk-estimator:hover label.sk-toggleable__label-arrow:before {color: black;}#sk-container-id-1 div.sk-toggleable__content {max-height: 0;max-width: 0;overflow: hidden;text-align: left;background-color: #f0f8ff;}#sk-container-id-1 div.sk-toggleable__content pre {margin: 0.2em;color: black;border-radius: 0.25em;background-color: #f0f8ff;}#sk-container-id-1 input.sk-toggleable__control:checked~div.sk-toggleable__content {max-height: 200px;max-width: 100%;overflow: auto;}#sk-container-id-1 input.sk-toggleable__control:checked~label.sk-toggleable__label-arrow:before {content: \"▾\";}#sk-container-id-1 div.sk-estimator input.sk-toggleable__control:checked~label.sk-toggleable__label {background-color: #d4ebff;}#sk-container-id-1 div.sk-label input.sk-toggleable__control:checked~label.sk-toggleable__label {background-color: #d4ebff;}#sk-container-id-1 input.sk-hidden--visually {border: 0;clip: rect(1px 1px 1px 1px);clip: rect(1px, 1px, 1px, 1px);height: 1px;margin: -1px;overflow: hidden;padding: 0;position: absolute;width: 1px;}#sk-container-id-1 div.sk-estimator {font-family: monospace;background-color: #f0f8ff;border: 1px dotted black;border-radius: 0.25em;box-sizing: border-box;margin-bottom: 0.5em;}#sk-container-id-1 div.sk-estimator:hover {background-color: #d4ebff;}#sk-container-id-1 div.sk-parallel-item::after {content: \"\";width: 100%;border-bottom: 1px solid gray;flex-grow: 1;}#sk-container-id-1 div.sk-label:hover label.sk-toggleable__label {background-color: #d4ebff;}#sk-container-id-1 div.sk-serial::before {content: \"\";position: absolute;border-left: 1px solid gray;box-sizing: border-box;top: 0;bottom: 0;left: 50%;z-index: 0;}#sk-container-id-1 div.sk-serial {display: flex;flex-direction: column;align-items: center;background-color: white;padding-right: 0.2em;padding-left: 0.2em;position: relative;}#sk-container-id-1 div.sk-item {position: relative;z-index: 1;}#sk-container-id-1 div.sk-parallel {display: flex;align-items: stretch;justify-content: center;background-color: white;position: relative;}#sk-container-id-1 div.sk-item::before, #sk-container-id-1 div.sk-parallel-item::before {content: \"\";position: absolute;border-left: 1px solid gray;box-sizing: border-box;top: 0;bottom: 0;left: 50%;z-index: -1;}#sk-container-id-1 div.sk-parallel-item {display: flex;flex-direction: column;z-index: 1;position: relative;background-color: white;}#sk-container-id-1 div.sk-parallel-item:first-child::after {align-self: flex-end;width: 50%;}#sk-container-id-1 div.sk-parallel-item:last-child::after {align-self: flex-start;width: 50%;}#sk-container-id-1 div.sk-parallel-item:only-child::after {width: 0;}#sk-container-id-1 div.sk-dashed-wrapped {border: 1px dashed gray;margin: 0 0.4em 0.5em 0.4em;box-sizing: border-box;padding-bottom: 0.4em;background-color: white;}#sk-container-id-1 div.sk-label label {font-family: monospace;font-weight: bold;display: inline-block;line-height: 1.2em;}#sk-container-id-1 div.sk-label-container {text-align: center;}#sk-container-id-1 div.sk-container {/* jupyter's `normalize.less` sets `[hidden] { display: none; }` but bootstrap.min.css set `[hidden] { display: none !important; }` so we also need the `!important` here to be able to override the default hidden behavior on the sphinx rendered scikit-learn.org. See: https://github.com/scikit-learn/scikit-learn/issues/21755 */display: inline-block !important;position: relative;}#sk-container-id-1 div.sk-text-repr-fallback {display: none;}</style><div id=\"sk-container-id-1\" class=\"sk-top-container\"><div class=\"sk-text-repr-fallback\"><pre>DecisionTreeClassifier(max_depth=10, random_state=42)</pre><b>In a Jupyter environment, please rerun this cell to show the HTML representation or trust the notebook. <br />On GitHub, the HTML representation is unable to render, please try loading this page with nbviewer.org.</b></div><div class=\"sk-container\" hidden><div class=\"sk-item\"><div class=\"sk-estimator sk-toggleable\"><input class=\"sk-toggleable__control sk-hidden--visually\" id=\"sk-estimator-id-1\" type=\"checkbox\" checked><label for=\"sk-estimator-id-1\" class=\"sk-toggleable__label sk-toggleable__label-arrow\">DecisionTreeClassifier</label><div class=\"sk-toggleable__content\"><pre>DecisionTreeClassifier(max_depth=10, random_state=42)</pre></div></div></div></div></div>"
      ],
      "text/plain": [
       "DecisionTreeClassifier(max_depth=10, random_state=42)"
      ]
     },
     "execution_count": 33,
     "metadata": {},
     "output_type": "execute_result"
    }
   ],
   "source": [
    "dtc = DecisionTreeClassifier(max_depth=10, random_state=42)\n",
    "dtc.fit(dev_X_tf, dev_y)"
   ]
  },
  {
   "cell_type": "code",
   "execution_count": 34,
   "id": "363124ad",
   "metadata": {},
   "outputs": [
    {
     "data": {
      "text/plain": [
       "0.930929405789741"
      ]
     },
     "execution_count": 34,
     "metadata": {},
     "output_type": "execute_result"
    }
   ],
   "source": [
    "dtc.score(test_X_tf, test_y)"
   ]
  },
  {
   "cell_type": "code",
   "execution_count": 35,
   "id": "6c8af1d4",
   "metadata": {},
   "outputs": [
    {
     "name": "stdout",
     "output_type": "stream",
     "text": [
      "              precision    recall  f1-score   support\n",
      "\n",
      "           0       0.78      0.37      0.50       557\n",
      "           1       0.94      0.99      0.96      5350\n",
      "\n",
      "    accuracy                           0.93      5907\n",
      "   macro avg       0.86      0.68      0.73      5907\n",
      "weighted avg       0.92      0.93      0.92      5907\n",
      "\n"
     ]
    }
   ],
   "source": [
    "test_pred_dtc = dtc.predict(test_X_tf)\n",
    "\n",
    "print(classification_report(test_y, test_pred_dtc))"
   ]
  },
  {
   "cell_type": "code",
   "execution_count": 36,
   "id": "eeb0696a",
   "metadata": {},
   "outputs": [
    {
     "name": "stdout",
     "output_type": "stream",
     "text": [
      "AUC:  [0.86381113 0.92405148 0.91879938 0.91913879 0.9203402 ]\n",
      "Average Precision:  [0.81740093 0.89866056 0.89406443 0.89245167 0.89444764]\n",
      "precision:  [0.72980251 0.83222665 0.80969    0.8228013  0.82423981]\n",
      "recall:  [0.9495445  0.87850467 0.92149533 0.88528037 0.89299065]\n",
      "f1:  [0.82529692 0.85473971 0.8619823  0.85289814 0.85723898]\n"
     ]
    }
   ],
   "source": [
    "# Your Code Here\n",
    "scores_smote = cross_validate(DecisionTreeClassifier(max_depth=10, random_state=42), \n",
    "                        dev_X_smote, dev_y_smote, cv=5, \n",
    "                        scoring = ['roc_auc', 'average_precision', 'precision', 'recall' , 'f1'])\n",
    "\n",
    "print(\"AUC: \", scores_smote['test_roc_auc'])\n",
    "print(\"Average Precision: \", scores_smote['test_average_precision'])\n",
    "print(\"precision: \", scores_smote['test_precision'])\n",
    "print(\"recall: \", scores_smote['test_recall'])\n",
    "print(\"f1: \", scores_smote['test_f1'])"
   ]
  },
  {
   "cell_type": "code",
   "execution_count": null,
   "id": "b25ab10d",
   "metadata": {},
   "outputs": [],
   "source": []
  },
  {
   "cell_type": "markdown",
   "id": "67a41348",
   "metadata": {},
   "source": [
    "#### Random Forest"
   ]
  },
  {
   "cell_type": "code",
   "execution_count": 39,
   "id": "dff1ee56",
   "metadata": {},
   "outputs": [],
   "source": [
    "from sklearn.ensemble import RandomForestClassifier\n",
    "from sklearn.metrics import accuracy_score, precision_score, recall_score, f1_score, classification_report"
   ]
  },
  {
   "cell_type": "code",
   "execution_count": 40,
   "id": "0456f12c",
   "metadata": {},
   "outputs": [
    {
     "name": "stdout",
     "output_type": "stream",
     "text": [
      "\n",
      "Test Set Metrics:\n",
      "Precision: 0.9772727272727273\n",
      "Recall: 0.23159784560143626\n",
      "F1 Score: 0.37445573294629897\n"
     ]
    }
   ],
   "source": [
    "\n",
    "rf_classifier = RandomForestClassifier(random_state=42)\n",
    "rf_classifier.fit(dev_X_tf, dev_y)\n",
    "\n",
    "y_dev_pred = rf_classifier.predict(dev_X_tf)\n",
    "y_test_pred = rf_classifier.predict(test_X_tf)\n",
    "\n",
    "precision_test = precision_score(test_y, y_test_pred, pos_label = 0)\n",
    "recall_test = recall_score(test_y, y_test_pred, pos_label = 0)\n",
    "f1_score_test = f1_score(test_y, y_test_pred, pos_label = 0)\n",
    "\n",
    "\n",
    "print(\"\\nTest Set Metrics:\")\n",
    "print(f\"Precision: {precision_test}\")\n",
    "print(f\"Recall: {recall_test}\")\n",
    "print(f\"F1 Score: {f1_score_test}\")"
   ]
  },
  {
   "cell_type": "code",
   "execution_count": null,
   "id": "9402aa70",
   "metadata": {},
   "outputs": [],
   "source": []
  },
  {
   "cell_type": "markdown",
   "id": "01143395",
   "metadata": {},
   "source": [
    "#### Gradient Boosted Trees"
   ]
  },
  {
   "cell_type": "code",
   "execution_count": 41,
   "id": "9d2b9356",
   "metadata": {},
   "outputs": [],
   "source": [
    "from sklearn.ensemble import GradientBoostingClassifier\n",
    "from sklearn.experimental import enable_hist_gradient_boosting\n",
    "from sklearn.ensemble import HistGradientBoostingClassifier\n",
    "import time"
   ]
  },
  {
   "cell_type": "code",
   "execution_count": 43,
   "id": "f1687fd9",
   "metadata": {},
   "outputs": [],
   "source": [
    "from sklearn.model_selection import GridSearchCV, StratifiedKFold"
   ]
  },
  {
   "cell_type": "code",
   "execution_count": 47,
   "id": "cd26d5c6",
   "metadata": {},
   "outputs": [
    {
     "name": "stdout",
     "output_type": "stream",
     "text": [
      "Test Set Metrics (GradientBoostingClassifier):\n",
      "Precision: 0.88\n",
      "Recall: 0.41\n",
      "F1 Score: 0.56\n"
     ]
    }
   ],
   "source": [
    "# dev_X_tf\n",
    "# test_X_tf\n",
    "\n",
    "\n",
    "optimal_gbc = GradientBoostingClassifier(random_state=42, n_estimators=100, learning_rate=0.1, max_depth=5)\n",
    "optimal_gbc.fit(dev_X_tf, dev_y)\n",
    "\n",
    "y_pred_gbc = optimal_gbc.predict(test_X_tf) \n",
    "test_precision_gbc = precision_score(test_y, y_pred_gbc, pos_label = 0)\n",
    "recall_test_gbc = recall_score(test_y, y_pred_gbc, pos_label = 0)\n",
    "f1_score_test_gbc = f1_score(test_y, y_pred_gbc, pos_label = 0)\n",
    "\n",
    "\n",
    "print(\"Test Set Metrics (GradientBoostingClassifier):\")\n",
    "print(f\"Precision: {test_precision_gbc:.2f}\")\n",
    "print(f\"Recall: {recall_test_gbc:.2f}\")\n",
    "print(f\"F1 Score: {f1_score_test_gbc:.2f}\")"
   ]
  },
  {
   "cell_type": "code",
   "execution_count": 52,
   "id": "0874a89d",
   "metadata": {},
   "outputs": [],
   "source": [
    "import xgboost as xgb"
   ]
  },
  {
   "cell_type": "code",
   "execution_count": 53,
   "id": "35a91545",
   "metadata": {},
   "outputs": [
    {
     "name": "stdout",
     "output_type": "stream",
     "text": [
      "\n",
      "Test Set Metrics (XGBClassifier):\n",
      "Precision: 0.93\n",
      "Recall: 0.19\n",
      "F1 Score: 0.31\n"
     ]
    }
   ],
   "source": [
    "optimal_xgb = xgb.XGBClassifier(random_state=42, n_estimators=10, learning_rate=0.1, max_depth=5)\n",
    "optimal_xgb.fit(dev_X_tf, dev_y)\n",
    "\n",
    "y_pred_xgb = optimal_xgb.predict(test_X_tf) \n",
    "test_precision_xgb = precision_score(test_y, y_pred_xgb, pos_label = 0)\n",
    "recall_test_xgb = recall_score(test_y, y_pred_xgb, pos_label = 0)\n",
    "f1_score_test_xgb = f1_score(test_y, y_pred_xgb, pos_label = 0)\n",
    "\n",
    "\n",
    "print(\"\\nTest Set Metrics (XGBClassifier):\")\n",
    "print(f\"Precision: {test_precision_xgb:.2f}\")\n",
    "print(f\"Recall: {recall_test_xgb:.2f}\")\n",
    "print(f\"F1 Score: {f1_score_test_xgb:.2f}\")"
   ]
  }
 ],
 "metadata": {
  "kernelspec": {
   "display_name": "eods-f22",
   "language": "python",
   "name": "eods-f22"
  },
  "language_info": {
   "codemirror_mode": {
    "name": "ipython",
    "version": 3
   },
   "file_extension": ".py",
   "mimetype": "text/x-python",
   "name": "python",
   "nbconvert_exporter": "python",
   "pygments_lexer": "ipython3",
   "version": "3.10.6"
  }
 },
 "nbformat": 4,
 "nbformat_minor": 5
}
